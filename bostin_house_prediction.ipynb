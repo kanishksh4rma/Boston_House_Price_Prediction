{
  "nbformat": 4,
  "nbformat_minor": 0,
  "metadata": {
    "colab": {
      "name": "bostin_house_prediction.ipynb",
      "provenance": [],
      "collapsed_sections": []
    },
    "kernelspec": {
      "name": "python3",
      "display_name": "Python 3"
    }
  },
  "cells": [
    {
      "cell_type": "code",
      "metadata": {
        "id": "DSQB-cBmuUJQ",
        "colab_type": "code",
        "colab": {}
      },
      "source": [
        "from sklearn.datasets import load_boston\n",
        "import pandas as pd\n",
        "from sklearn.model_selection import train_test_split"
      ],
      "execution_count": 133,
      "outputs": []
    },
    {
      "cell_type": "code",
      "metadata": {
        "id": "mgIW7TgzufhD",
        "colab_type": "code",
        "colab": {}
      },
      "source": [
        "#load the data\n",
        "\n",
        "df = load_boston()\n",
        "X = pd.DataFrame(df.data)\n",
        "y = pd.DataFrame(df.target)\n",
        "\n",
        "#split the data\n",
        "X_train,X_test, y_train, y_test = train_test_split(X,y,random_state=5)"
      ],
      "execution_count": 134,
      "outputs": []
    },
    {
      "cell_type": "code",
      "metadata": {
        "id": "2fRHYg4FvPuR",
        "colab_type": "code",
        "colab": {}
      },
      "source": [
        "from sklearn.linear_model import LinearRegression\n",
        "from sklearn.ensemble import RandomForestRegressor\n",
        "from sklearn.naive_bayes import BernoulliNB\n",
        "import seaborn as sns\n",
        "from sklearn.metrics import mean_squared_error"
      ],
      "execution_count": 135,
      "outputs": []
    },
    {
      "cell_type": "code",
      "metadata": {
        "id": "BSI8yuIz_4ia",
        "colab_type": "code",
        "colab": {}
      },
      "source": [
        "params = {\n",
        "    'LinearRegression':{\n",
        "        'model':LinearRegression(),\n",
        "        'params':{\n",
        "            'n_jobs':[0.0,0.1,0.5]\n",
        "        }\n",
        "    },\n",
        "    'RandomForestRegressor':{\n",
        "        'model':RandomForestRegressor(),\n",
        "        'params':{\n",
        "            'n_estimators':[100,200,300,400]\n",
        "        }\n",
        "    }\n",
        "    }"
      ],
      "execution_count": 136,
      "outputs": []
    },
    {
      "cell_type": "code",
      "metadata": {
        "id": "P8e15ZjaGrIX",
        "colab_type": "code",
        "colab": {}
      },
      "source": [
        "\n",
        "import warnings\n",
        "warnings.filterwarnings('ignore')"
      ],
      "execution_count": 137,
      "outputs": []
    },
    {
      "cell_type": "code",
      "metadata": {
        "id": "ysvFw_BQCX84",
        "colab_type": "code",
        "colab": {
          "base_uri": "https://localhost:8080/",
          "height": 108
        },
        "outputId": "66606d60-4a9b-44b5-9347-15844ad7ddea"
      },
      "source": [
        "from sklearn.model_selection import GridSearchCV\n",
        "scores=[]\n",
        "for name,mp in params.items():\n",
        "  clf = GridSearchCV(mp['model'],mp['params'],cv=5)\n",
        "  clf.fit(X_train,y_train)\n",
        "  scores.append({\n",
        "      'name':name,\n",
        "      'params':clf.best_params_,\n",
        "      'score':clf.best_score_\n",
        "  })\n",
        "\n",
        "df_scores = pd.DataFrame(scores)\n",
        "df_scores"
      ],
      "execution_count": 138,
      "outputs": [
        {
          "output_type": "execute_result",
          "data": {
            "text/html": [
              "<div>\n",
              "<style scoped>\n",
              "    .dataframe tbody tr th:only-of-type {\n",
              "        vertical-align: middle;\n",
              "    }\n",
              "\n",
              "    .dataframe tbody tr th {\n",
              "        vertical-align: top;\n",
              "    }\n",
              "\n",
              "    .dataframe thead th {\n",
              "        text-align: right;\n",
              "    }\n",
              "</style>\n",
              "<table border=\"1\" class=\"dataframe\">\n",
              "  <thead>\n",
              "    <tr style=\"text-align: right;\">\n",
              "      <th></th>\n",
              "      <th>name</th>\n",
              "      <th>params</th>\n",
              "      <th>score</th>\n",
              "    </tr>\n",
              "  </thead>\n",
              "  <tbody>\n",
              "    <tr>\n",
              "      <th>0</th>\n",
              "      <td>LinearRegression</td>\n",
              "      <td>{'n_jobs': 0.0}</td>\n",
              "      <td>0.710310</td>\n",
              "    </tr>\n",
              "    <tr>\n",
              "      <th>1</th>\n",
              "      <td>RandomForestRegressor</td>\n",
              "      <td>{'n_estimators': 300}</td>\n",
              "      <td>0.863636</td>\n",
              "    </tr>\n",
              "  </tbody>\n",
              "</table>\n",
              "</div>"
            ],
            "text/plain": [
              "                    name                 params     score\n",
              "0       LinearRegression        {'n_jobs': 0.0}  0.710310\n",
              "1  RandomForestRegressor  {'n_estimators': 300}  0.863636"
            ]
          },
          "metadata": {
            "tags": []
          },
          "execution_count": 138
        }
      ]
    },
    {
      "cell_type": "code",
      "metadata": {
        "id": "9YBsgET2DSKV",
        "colab_type": "code",
        "colab": {
          "base_uri": "https://localhost:8080/",
          "height": 257
        },
        "outputId": "3ddeef07-870e-415e-9b73-d57f898fe4bc"
      },
      "source": [
        "df_res = pd.DataFrame(clf.cv_results_)\n",
        "df_res.head(10)"
      ],
      "execution_count": 139,
      "outputs": [
        {
          "output_type": "execute_result",
          "data": {
            "text/html": [
              "<div>\n",
              "<style scoped>\n",
              "    .dataframe tbody tr th:only-of-type {\n",
              "        vertical-align: middle;\n",
              "    }\n",
              "\n",
              "    .dataframe tbody tr th {\n",
              "        vertical-align: top;\n",
              "    }\n",
              "\n",
              "    .dataframe thead th {\n",
              "        text-align: right;\n",
              "    }\n",
              "</style>\n",
              "<table border=\"1\" class=\"dataframe\">\n",
              "  <thead>\n",
              "    <tr style=\"text-align: right;\">\n",
              "      <th></th>\n",
              "      <th>mean_fit_time</th>\n",
              "      <th>std_fit_time</th>\n",
              "      <th>mean_score_time</th>\n",
              "      <th>std_score_time</th>\n",
              "      <th>param_n_estimators</th>\n",
              "      <th>params</th>\n",
              "      <th>split0_test_score</th>\n",
              "      <th>split1_test_score</th>\n",
              "      <th>split2_test_score</th>\n",
              "      <th>split3_test_score</th>\n",
              "      <th>split4_test_score</th>\n",
              "      <th>mean_test_score</th>\n",
              "      <th>std_test_score</th>\n",
              "      <th>rank_test_score</th>\n",
              "    </tr>\n",
              "  </thead>\n",
              "  <tbody>\n",
              "    <tr>\n",
              "      <th>0</th>\n",
              "      <td>0.252369</td>\n",
              "      <td>0.002906</td>\n",
              "      <td>0.010010</td>\n",
              "      <td>0.002354</td>\n",
              "      <td>100</td>\n",
              "      <td>{'n_estimators': 100}</td>\n",
              "      <td>0.872839</td>\n",
              "      <td>0.899459</td>\n",
              "      <td>0.856380</td>\n",
              "      <td>0.893290</td>\n",
              "      <td>0.784883</td>\n",
              "      <td>0.861370</td>\n",
              "      <td>0.041174</td>\n",
              "      <td>4</td>\n",
              "    </tr>\n",
              "    <tr>\n",
              "      <th>1</th>\n",
              "      <td>0.514661</td>\n",
              "      <td>0.029171</td>\n",
              "      <td>0.015471</td>\n",
              "      <td>0.001267</td>\n",
              "      <td>200</td>\n",
              "      <td>{'n_estimators': 200}</td>\n",
              "      <td>0.875618</td>\n",
              "      <td>0.897258</td>\n",
              "      <td>0.858489</td>\n",
              "      <td>0.889445</td>\n",
              "      <td>0.790956</td>\n",
              "      <td>0.862353</td>\n",
              "      <td>0.038055</td>\n",
              "      <td>3</td>\n",
              "    </tr>\n",
              "    <tr>\n",
              "      <th>2</th>\n",
              "      <td>0.732440</td>\n",
              "      <td>0.005679</td>\n",
              "      <td>0.021351</td>\n",
              "      <td>0.000847</td>\n",
              "      <td>300</td>\n",
              "      <td>{'n_estimators': 300}</td>\n",
              "      <td>0.886226</td>\n",
              "      <td>0.901811</td>\n",
              "      <td>0.853937</td>\n",
              "      <td>0.890340</td>\n",
              "      <td>0.785867</td>\n",
              "      <td>0.863636</td>\n",
              "      <td>0.042007</td>\n",
              "      <td>1</td>\n",
              "    </tr>\n",
              "    <tr>\n",
              "      <th>3</th>\n",
              "      <td>0.977986</td>\n",
              "      <td>0.019143</td>\n",
              "      <td>0.027586</td>\n",
              "      <td>0.000797</td>\n",
              "      <td>400</td>\n",
              "      <td>{'n_estimators': 400}</td>\n",
              "      <td>0.880789</td>\n",
              "      <td>0.899941</td>\n",
              "      <td>0.856898</td>\n",
              "      <td>0.890338</td>\n",
              "      <td>0.789627</td>\n",
              "      <td>0.863519</td>\n",
              "      <td>0.039618</td>\n",
              "      <td>2</td>\n",
              "    </tr>\n",
              "  </tbody>\n",
              "</table>\n",
              "</div>"
            ],
            "text/plain": [
              "   mean_fit_time  std_fit_time  ...  std_test_score  rank_test_score\n",
              "0       0.252369      0.002906  ...        0.041174                4\n",
              "1       0.514661      0.029171  ...        0.038055                3\n",
              "2       0.732440      0.005679  ...        0.042007                1\n",
              "3       0.977986      0.019143  ...        0.039618                2\n",
              "\n",
              "[4 rows x 14 columns]"
            ]
          },
          "metadata": {
            "tags": []
          },
          "execution_count": 139
        }
      ]
    },
    {
      "cell_type": "code",
      "metadata": {
        "id": "twHOD_xDwYa0",
        "colab_type": "code",
        "colab": {
          "base_uri": "https://localhost:8080/",
          "height": 35
        },
        "outputId": "533a74d6-8cfb-471f-e941-b302c8c52e90"
      },
      "source": [
        "#create model\n",
        "model = RandomForestRegressor(n_estimators=300)\n",
        "\n",
        "#fit model\n",
        "model.fit(X_train,y_train)\n",
        "\n",
        "#predict the model\n",
        "pred = model.predict(X_test)\n",
        "\n",
        "#print mean_squared_error\n",
        "print('mean_squared_error : ',mean_squared_error(y_test,pred))"
      ],
      "execution_count": 143,
      "outputs": [
        {
          "output_type": "stream",
          "text": [
            "mean_squared_error :  9.474496559930039\n"
          ],
          "name": "stdout"
        }
      ]
    },
    {
      "cell_type": "code",
      "metadata": {
        "id": "4vTzmggCHWzr",
        "colab_type": "code",
        "colab": {
          "base_uri": "https://localhost:8080/",
          "height": 35
        },
        "outputId": "cd2be741-9e7c-47e1-9a1b-8ecb672edf09"
      },
      "source": [
        "import statsmodels.api as sm\n",
        "\n",
        "x = sm.add_constant(X)\n",
        "result = sm.OLS(y, x).fit()\n",
        "print('R-squared score : ',result.rsquared)"
      ],
      "execution_count": 144,
      "outputs": [
        {
          "output_type": "stream",
          "text": [
            "R-squared score :  0.7406426641094095\n"
          ],
          "name": "stdout"
        }
      ]
    },
    {
      "cell_type": "code",
      "metadata": {
        "id": "IG6wfDm0H3jJ",
        "colab_type": "code",
        "colab": {
          "base_uri": "https://localhost:8080/",
          "height": 254
        },
        "outputId": "fad0fb70-9c47-40ff-e9eb-870f78aa8ffd"
      },
      "source": [
        "#Variable Importance for model with highest accuracy\n",
        "\n",
        "imp_dict = { X.columns[i]:imp for i,imp in enumerate(model.feature_importances_)}\n",
        "sorted_imp_dict = sorted(imp_dict.items(), key=lambda x: x[1], reverse=True)\n",
        "sorted_imp_dict"
      ],
      "execution_count": 145,
      "outputs": [
        {
          "output_type": "execute_result",
          "data": {
            "text/plain": [
              "[(5, 0.4176605407674716),\n",
              " (12, 0.37400288900910017),\n",
              " (7, 0.06600730517905955),\n",
              " (0, 0.06222206043448895),\n",
              " (4, 0.014970193117536015),\n",
              " (9, 0.014906102818488825),\n",
              " (6, 0.012899014698787932),\n",
              " (10, 0.012023123270987444),\n",
              " (11, 0.010929583459524522),\n",
              " (2, 0.006371875336661186),\n",
              " (8, 0.005834753003946146),\n",
              " (1, 0.0012234979585536957),\n",
              " (3, 0.0009490609453941922)]"
            ]
          },
          "metadata": {
            "tags": []
          },
          "execution_count": 145
        }
      ]
    },
    {
      "cell_type": "code",
      "metadata": {
        "id": "5v4x-zoaJHdd",
        "colab_type": "code",
        "colab": {
          "base_uri": "https://localhost:8080/",
          "height": 283
        },
        "outputId": "51d06ee7-4db0-472c-9b94-071ef8bada9d"
      },
      "source": [
        "lst_1 = list(imp_dict.keys())\n",
        "lst_2 = list(imp_dict.values())\n",
        "sns.barplot(lst_2,lst_1,orient='h')"
      ],
      "execution_count": 147,
      "outputs": [
        {
          "output_type": "execute_result",
          "data": {
            "text/plain": [
              "<matplotlib.axes._subplots.AxesSubplot at 0x7fc341b86470>"
            ]
          },
          "metadata": {
            "tags": []
          },
          "execution_count": 147
        },
        {
          "output_type": "display_data",
          "data": {
            "image/png": "[encoded data removed]",
            "text/plain": [
              "<Figure size 432x288 with 1 Axes>"
            ]
          },
          "metadata": {
            "tags": [],
            "needs_background": "light"
          }
        }
      ]
    }
  ]
}