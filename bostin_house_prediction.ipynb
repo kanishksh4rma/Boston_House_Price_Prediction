{
  "nbformat": 4,
  "nbformat_minor": 0,
  "metadata": {
    "colab": {
      "name": "bostin_house_prediction.ipynb",
      "provenance": []
    },
    "kernelspec": {
      "name": "python3",
      "display_name": "Python 3"
    }
  },
  "cells": [
    {
      "cell_type": "code",
      "metadata": {
        "id": "DSQB-cBmuUJQ",
        "colab_type": "code",
        "colab": {}
      },
      "source": [
        "from sklearn.datasets import load_boston\n",
        "import pandas as pd"
      ],
      "execution_count": 203,
      "outputs": []
    },
    {
      "cell_type": "code",
      "metadata": {
        "id": "mgIW7TgzufhD",
        "colab_type": "code",
        "colab": {}
      },
      "source": [
        "#load the data\n",
        "\n",
        "df = load_boston()\n",
        "X = pd.DataFrame(df.data)\n",
        "y = pd.DataFrame(df.target)\n",
        "\n",
        "#split the data\n",
        "X_train,X_test, y_train, y_test = train_test_split(X,y,random_state=5)"
      ],
      "execution_count": 204,
      "outputs": []
    },
    {
      "cell_type": "code",
      "metadata": {
        "id": "2fRHYg4FvPuR",
        "colab_type": "code",
        "colab": {}
      },
      "source": [
        "from sklearn.linear_model import LinearRegression\n",
        "from sklearn.metrics import mean_squared_error"
      ],
      "execution_count": 205,
      "outputs": []
    },
    {
      "cell_type": "code",
      "metadata": {
        "id": "twHOD_xDwYa0",
        "colab_type": "code",
        "colab": {}
      },
      "source": [
        "#create model\n",
        "\n",
        "model = LinearRegression()\n",
        "\n",
        "#fit model\n",
        "model.fit(X_train,y_train)\n",
        "\n",
        "#predict the model\n",
        "pred = model.predict(X_test)"
      ],
      "execution_count": 207,
      "outputs": []
    },
    {
      "cell_type": "code",
      "metadata": {
        "id": "86G9Uytd2TYI",
        "colab_type": "code",
        "colab": {
          "base_uri": "https://localhost:8080/",
          "height": 34
        },
        "outputId": "50a16379-df8c-4d15-9fc4-4f0d76076788"
      },
      "source": [
        "print('mean_squared_error : ',mean_squared_error(y_test,pred))"
      ],
      "execution_count": 208,
      "outputs": [
        {
          "output_type": "stream",
          "text": [
            "mean_squared_error :  24.274608311687853\n"
          ],
          "name": "stdout"
        }
      ]
    }
  ]
}